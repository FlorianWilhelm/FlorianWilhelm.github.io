{
 "cells": [
  {
   "cell_type": "code",
   "execution_count": null,
   "metadata": {
    "collapsed": false
   },
   "outputs": [],
   "source": [
    "from math import exp, log\n",
    "\n",
    "import numpy as np\n",
    "import scipy as sp\n",
    "from scipy import stats\n",
    "from scipy.special import expit\n",
    "\n",
    "import pandas as pd\n",
    "import seaborn as sns\n",
    "from sklearn.ensemble import RandomForestClassifier\n",
    "from sklearn.ensemble import RandomForestRegressor\n",
    "from sklearn.linear_model import LogisticRegression\n",
    "from sklearn.svm import LinearSVC, SVR\n",
    "from sklearn.naive_bayes import GaussianNB\n",
    "from sklearn.calibration import CalibratedClassifierCV\n",
    "import statsmodels.api as sm\n",
    "import statsmodels.formula.api as smf\n",
    "\n",
    "import matplotlib.pyplot as plt\n",
    "%matplotlib inline \n",
    "# %matplotlib notebook\n",
    "\n",
    "from bokeh.io import output_notebook\n",
    "from bokeh.plotting import figure, show, output_file\n",
    "from bokeh.charts import HeatMap, bins\n",
    "\n",
    "%load_ext autoreload\n",
    "%autoreload 2\n",
    "\n",
    "#output_notebook()"
   ]
  },
  {
   "cell_type": "code",
   "execution_count": null,
   "metadata": {
    "collapsed": true
   },
   "outputs": [],
   "source": [
    "np.random.seed(42)"
   ]
  },
  {
   "cell_type": "code",
   "execution_count": null,
   "metadata": {
    "collapsed": false
   },
   "outputs": [],
   "source": [
    "p1 = figure(title=\"Beta of Disease\", background_fill_color=\"white\")\n",
    "\n",
    "x = np.linspace(0, 1, 1000)\n",
    "beta_dist = stats.beta(0.5, 1)\n",
    "rvs = beta_dist.rvs(size=10000)\n",
    "pdf = beta_dist.pdf(x)\n",
    "\n",
    "hist, edges = np.histogram(rvs, density=True, bins=50)\n",
    "\n",
    "p1.quad(top=hist, bottom=0, left=edges[:-1], right=edges[1:], fill_color=None, line_color=\"#033649\")\n",
    "p1.line(x, pdf, line_color=\"#D95B43\", line_width=2, alpha=0.7, legend=\"PDF\")\n",
    "\n",
    "p1.legend.location = \"top_left\"\n",
    "p1.xaxis.axis_label = 'x'\n",
    "p1.yaxis.axis_label = 'Pr(x)'\n",
    "\n",
    "show(p1);"
   ]
  },
  {
   "cell_type": "code",
   "execution_count": null,
   "metadata": {
    "collapsed": false,
    "scrolled": false
   },
   "outputs": [],
   "source": [
    "p1 = figure(title=\"Severity of Disease\", background_fill_color=\"white\")\n",
    "\n",
    "x = np.linspace(0, 1, 1000)\n",
    "sev_dist = stats.beta(3, 1.5)\n",
    "rvs = sev_dist.rvs(size=10000)\n",
    "pdf = sev_dist.pdf(x)\n",
    "\n",
    "hist, edges = np.histogram(rvs, density=True, bins=50)\n",
    "\n",
    "p1.quad(top=hist, bottom=0, left=edges[:-1], right=edges[1:], fill_color=None, line_color=\"#033649\")\n",
    "p1.line(x, pdf, line_color=\"#D95B43\", line_width=2, alpha=0.7, legend=\"PDF\")\n",
    "\n",
    "p1.legend.location = \"top_left\"\n",
    "p1.xaxis.axis_label = 'x'\n",
    "p1.yaxis.axis_label = 'Pr(x)'\n",
    "\n",
    "show(p1);"
   ]
  },
  {
   "cell_type": "code",
   "execution_count": null,
   "metadata": {
    "collapsed": false
   },
   "outputs": [],
   "source": [
    "p2 = figure(title=\"Age in years\", background_fill_color=\"white\")\n",
    "\n",
    "x = np.linspace(0, 100, 1000)\n",
    "ages_dist = stats.gamma(8, scale=4)\n",
    "rvs = ages_dist.rvs(size=10000)\n",
    "pdf = ages_dist.pdf(x)\n",
    "\n",
    "hist, edges = np.histogram(rvs, density=True, bins=50)\n",
    "\n",
    "p2.quad(top=hist, bottom=0, left=edges[:-1], right=edges[1:], fill_color=None, line_color=\"#033649\")\n",
    "p2.line(x, pdf, line_color=\"#D95B43\", line_width=2, alpha=0.7, legend=\"PDF\")\n",
    "\n",
    "p2.legend.location = \"top_left\"\n",
    "p2.xaxis.axis_label = 'x'\n",
    "p2.yaxis.axis_label = 'Pr(x)'\n",
    "\n",
    "show(p2);"
   ]
  },
  {
   "cell_type": "markdown",
   "metadata": {},
   "source": [
    "##### Expected recovery time (days) = $exp(2+0.5*I_{male} + 0.03*age + 0.2*severity - 1*I_{medication})$"
   ]
  },
  {
   "cell_type": "markdown",
   "metadata": {},
   "source": [
    "# Double-blind A/B test"
   ]
  },
  {
   "cell_type": "code",
   "execution_count": null,
   "metadata": {
    "collapsed": true
   },
   "outputs": [],
   "source": [
    "N = 100000"
   ]
  },
  {
   "cell_type": "code",
   "execution_count": null,
   "metadata": {
    "collapsed": false
   },
   "outputs": [],
   "source": [
    "sexes = np.random.randint(0,2, size=N)  # sex == 1 if male otherwise female\n",
    "ages = ages_dist.rvs(size=N)\n",
    "severties = sev_dist.rvs(size=N)\n",
    "meds = np.random.randint(0,2, size=N)\n",
    "const = np.ones(N)"
   ]
  },
  {
   "cell_type": "code",
   "execution_count": null,
   "metadata": {
    "collapsed": false,
    "scrolled": false
   },
   "outputs": [],
   "source": [
    "df = pd.DataFrame(dict(sex=sexes, age=ages, severity=severties, medication=meds, const=const))\n",
    "features = ['sex', 'age', 'severity', 'medication', 'const']\n",
    "df = df[features]\n",
    "df.head()"
   ]
  },
  {
   "cell_type": "code",
   "execution_count": null,
   "metadata": {
    "collapsed": false
   },
   "outputs": [],
   "source": [
    "df.describe()"
   ]
  },
  {
   "cell_type": "code",
   "execution_count": null,
   "metadata": {
    "collapsed": false,
    "scrolled": false
   },
   "outputs": [],
   "source": [
    "data = df.corr()\n",
    "sns.heatmap(data)"
   ]
  },
  {
   "cell_type": "code",
   "execution_count": null,
   "metadata": {
    "collapsed": false
   },
   "outputs": [],
   "source": [
    "data.reset_index()"
   ]
  },
  {
   "cell_type": "code",
   "execution_count": null,
   "metadata": {
    "collapsed": true
   },
   "outputs": [],
   "source": [
    "def exp_recovery_time(sex, age, severity, medication):\n",
    "    return exp(2+0.5*sex+0.03*age+2*severity-1*medication)"
   ]
  },
  {
   "cell_type": "code",
   "execution_count": null,
   "metadata": {
    "collapsed": false
   },
   "outputs": [],
   "source": [
    "def rvs_recovery_time(sex, age, severity, medication, *args):\n",
    "    return stats.poisson.rvs(exp_recovery_time(sex, age, severity, medication))"
   ]
  },
  {
   "cell_type": "code",
   "execution_count": null,
   "metadata": {
    "collapsed": false
   },
   "outputs": [],
   "source": [
    "exp_recovery_time(1, 50, 0.5, 1)"
   ]
  },
  {
   "cell_type": "code",
   "execution_count": null,
   "metadata": {
    "collapsed": false,
    "scrolled": false
   },
   "outputs": [],
   "source": [
    "df['recovery'] = df.apply(lambda x: rvs_recovery_time(*x) , axis=1)\n",
    "df.head()"
   ]
  },
  {
   "cell_type": "code",
   "execution_count": null,
   "metadata": {
    "collapsed": false,
    "scrolled": true
   },
   "outputs": [],
   "source": [
    "glm = sm.GLM(df['recovery'], df[features], family=sm.families.Poisson())\n",
    "res = glm.fit()\n",
    "print(res.summary())"
   ]
  },
  {
   "cell_type": "code",
   "execution_count": null,
   "metadata": {
    "collapsed": false,
    "scrolled": false
   },
   "outputs": [],
   "source": [
    "reg = RandomForestRegressor()\n",
    "X = df[features].as_matrix()\n",
    "y = df['recovery'].values\n",
    "reg.fit(X, y)"
   ]
  },
  {
   "cell_type": "code",
   "execution_count": null,
   "metadata": {
    "collapsed": false
   },
   "outputs": [],
   "source": [
    "X_neg = np.copy(X)\n",
    "X_neg[:, df.columns.get_loc('medication')] = 0\n",
    "X_pos = np.copy(X)\n",
    "X_pos[:, df.columns.get_loc('medication')] = 1"
   ]
  },
  {
   "cell_type": "code",
   "execution_count": null,
   "metadata": {
    "collapsed": false
   },
   "outputs": [],
   "source": [
    "effect = np.mean(reg.predict(X_pos) / reg.predict(X_neg))"
   ]
  },
  {
   "cell_type": "code",
   "execution_count": null,
   "metadata": {
    "collapsed": false,
    "scrolled": true
   },
   "outputs": [],
   "source": [
    "np.log(effect)"
   ]
  },
  {
   "cell_type": "markdown",
   "metadata": {},
   "source": [
    "# Now with a bias, likelihood of getting a treatment rises with the severity"
   ]
  },
  {
   "cell_type": "code",
   "execution_count": null,
   "metadata": {
    "collapsed": true
   },
   "outputs": [],
   "source": [
    "def get_medication(sex, age, severity, medication, *args):\n",
    "    return int(1/3*sex + 2/3*severity + 0.15*np.random.randn() > 0.8)"
   ]
  },
  {
   "cell_type": "code",
   "execution_count": null,
   "metadata": {
    "collapsed": false,
    "scrolled": true
   },
   "outputs": [],
   "source": [
    "df2 = df.copy().drop('recovery', axis=1)\n",
    "df2['medication'] = df2.apply(lambda x: get_medication(*x), axis=1)\n",
    "df2['recovery'] = df2.apply(lambda x: rvs_recovery_time(*x), axis=1)\n",
    "df2.describe(percentiles=np.arange(0.1,1,0.1))"
   ]
  },
  {
   "cell_type": "code",
   "execution_count": null,
   "metadata": {
    "collapsed": false
   },
   "outputs": [],
   "source": [
    "df2['medication'].sum()/df2['medication'].count()"
   ]
  },
  {
   "cell_type": "code",
   "execution_count": null,
   "metadata": {
    "collapsed": false,
    "scrolled": true
   },
   "outputs": [],
   "source": [
    "df2.corr()"
   ]
  },
  {
   "cell_type": "code",
   "execution_count": null,
   "metadata": {
    "collapsed": false
   },
   "outputs": [],
   "source": [
    "data = df2.corr()\n",
    "sns.heatmap(data)"
   ]
  },
  {
   "cell_type": "code",
   "execution_count": null,
   "metadata": {
    "collapsed": false,
    "scrolled": true
   },
   "outputs": [],
   "source": [
    "glm = sm.GLM(df2['recovery'], df2[features], family=sm.families.Poisson())\n",
    "res = glm.fit()\n",
    "print(res.summary())"
   ]
  },
  {
   "cell_type": "code",
   "execution_count": null,
   "metadata": {
    "collapsed": false,
    "scrolled": true
   },
   "outputs": [],
   "source": [
    "reg = RandomForestRegressor()\n",
    "X2 = df2[features].as_matrix()\n",
    "y2 = df2['recovery'].values\n",
    "reg.fit(X2, y2)"
   ]
  },
  {
   "cell_type": "code",
   "execution_count": null,
   "metadata": {
    "collapsed": true
   },
   "outputs": [],
   "source": [
    "X2_neg = np.copy(X2)\n",
    "X2_neg[:, df.columns.get_loc('medication')] = 0\n",
    "X2_pos = np.copy(X2)\n",
    "X2_pos[:, df.columns.get_loc('medication')] = 1"
   ]
  },
  {
   "cell_type": "code",
   "execution_count": null,
   "metadata": {
    "collapsed": true
   },
   "outputs": [],
   "source": [
    "effect = np.mean(reg.predict(X2_pos) / reg.predict(X2_neg))"
   ]
  },
  {
   "cell_type": "code",
   "execution_count": null,
   "metadata": {
    "collapsed": false,
    "scrolled": true
   },
   "outputs": [],
   "source": [
    "np.log(effect)"
   ]
  },
  {
   "cell_type": "markdown",
   "metadata": {},
   "source": [
    "### Oooppss, wrong coefficients!"
   ]
  },
  {
   "cell_type": "markdown",
   "metadata": {},
   "source": [
    "# Let's use the propensity score"
   ]
  },
  {
   "cell_type": "code",
   "execution_count": null,
   "metadata": {
    "collapsed": false
   },
   "outputs": [],
   "source": [
    "features"
   ]
  },
  {
   "cell_type": "code",
   "execution_count": null,
   "metadata": {
    "collapsed": false,
    "scrolled": true
   },
   "outputs": [],
   "source": [
    "#cls = RandomForestClassifier()\n",
    "cls = LogisticRegression(random_state=42)\n",
    "cls = GaussianNB()\n",
    "#cls = LinearSVC()\n",
    "\n",
    "cls = CalibratedClassifierCV(cls)\n",
    "\n",
    "X3 = df2[features].drop(['medication'], axis=1).as_matrix()\n",
    "y3 = df2['medication'].values\n",
    "cls.fit(X3, y3)"
   ]
  },
  {
   "cell_type": "code",
   "execution_count": null,
   "metadata": {
    "collapsed": false,
    "scrolled": true
   },
   "outputs": [],
   "source": [
    "propensity = pd.DataFrame(cls.predict_proba(X3))\n",
    "propensity[propensity[0]==0.] = 1e-3\n",
    "propensity[propensity[1]==0.] = 1e-3"
   ]
  },
  {
   "cell_type": "code",
   "execution_count": null,
   "metadata": {
    "collapsed": false
   },
   "outputs": [],
   "source": [
    "sp.stats.describe(propensity.lookup(np.arange(propensity.shape[0]), df2['medication'].values))"
   ]
  },
  {
   "cell_type": "code",
   "execution_count": null,
   "metadata": {
    "collapsed": false
   },
   "outputs": [],
   "source": [
    "propensity.hist(bins=100);"
   ]
  },
  {
   "cell_type": "code",
   "execution_count": null,
   "metadata": {
    "collapsed": false,
    "scrolled": true
   },
   "outputs": [],
   "source": [
    "propensity.describe()"
   ]
  },
  {
   "cell_type": "code",
   "execution_count": null,
   "metadata": {
    "collapsed": false,
    "scrolled": true
   },
   "outputs": [],
   "source": [
    "df2['iptw'] = 1. / propensity.lookup(np.arange(propensity.shape[0]), df2['medication'])"
   ]
  },
  {
   "cell_type": "code",
   "execution_count": null,
   "metadata": {
    "collapsed": false
   },
   "outputs": [],
   "source": [
    "propensity.lookup(np.arange(propensity.shape[0]), df2['medication'])[:20]"
   ]
  },
  {
   "cell_type": "code",
   "execution_count": null,
   "metadata": {
    "collapsed": false
   },
   "outputs": [],
   "source": [
    "df2.describe()"
   ]
  },
  {
   "cell_type": "code",
   "execution_count": null,
   "metadata": {
    "collapsed": false
   },
   "outputs": [],
   "source": [
    "glm = sm.GLM(df2['recovery'], df2[features], family=sm.families.Poisson(), freq_weights=df2['iptw'] )\n",
    "res = glm.fit()\n",
    "print(res.summary())"
   ]
  },
  {
   "cell_type": "code",
   "execution_count": null,
   "metadata": {
    "collapsed": false
   },
   "outputs": [],
   "source": [
    "reg = RandomForestRegressor(random_state=42)\n",
    "X4 = df2[features].as_matrix()\n",
    "y4 = df2['recovery'].values\n",
    "reg.fit(X4, y4, sample_weight=df2['iptw'].values)"
   ]
  },
  {
   "cell_type": "code",
   "execution_count": null,
   "metadata": {
    "collapsed": true
   },
   "outputs": [],
   "source": [
    "X4_neg = np.copy(X4)\n",
    "X4_neg[:, df.columns.get_loc('medication')] = 0\n",
    "X4_pos = np.copy(X4)\n",
    "X4_pos[:, df.columns.get_loc('medication')] = 1"
   ]
  },
  {
   "cell_type": "code",
   "execution_count": null,
   "metadata": {
    "collapsed": true
   },
   "outputs": [],
   "source": [
    "effect = np.mean(reg.predict(X4_pos) / reg.predict(X4_neg))"
   ]
  },
  {
   "cell_type": "code",
   "execution_count": null,
   "metadata": {
    "collapsed": false
   },
   "outputs": [],
   "source": [
    "np.log(effect)"
   ]
  }
 ],
 "metadata": {
  "kernelspec": {
   "display_name": "Python 3",
   "language": "python",
   "name": "python3"
  },
  "language_info": {
   "codemirror_mode": {
    "name": "ipython",
    "version": 3
   },
   "file_extension": ".py",
   "mimetype": "text/x-python",
   "name": "python",
   "nbconvert_exporter": "python",
   "pygments_lexer": "ipython3",
   "version": "3.5.2"
  }
 },
 "nbformat": 4,
 "nbformat_minor": 0
}
