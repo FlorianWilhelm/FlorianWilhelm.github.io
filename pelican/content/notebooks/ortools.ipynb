{
 "cells": [
  {
   "cell_type": "code",
   "execution_count": 2,
   "metadata": {
    "collapsed": true
   },
   "outputs": [],
   "source": [
    "from ortools.linear_solver import pywraplp"
   ]
  },
  {
   "cell_type": "code",
   "execution_count": 10,
   "metadata": {
    "collapsed": false
   },
   "outputs": [],
   "source": [
    "solver = pywraplp.Solver('SolveSimpleSystem', pywraplp.Solver.GLOP_LINEAR_PROGRAMMING)\n",
    "eps = 1.0\n",
    "\n",
    "# and let them take on any value.\n",
    "a = solver.NumVar(1, solver.infinity(), 'a')\n",
    "b = solver.NumVar(1, solver.infinity(), 'b')\n",
    "c = solver.NumVar(1, solver.infinity(), 'c')\n",
    "\n",
    "# Constraint 1: x + 2y <= 14.\n",
    "constraint1 = solver.Constraint(-solver.infinity(), -eps)\n",
    "constraint1.SetCoefficient(a, -1)\n",
    "constraint1.SetCoefficient(b, -1)\n",
    "constraint1.SetCoefficient(c, 1)\n",
    "\n",
    "# Constraint 1: x + 2y <= 14.\n",
    "constraint2 = solver.Constraint(-solver.infinity(), -eps)\n",
    "constraint2.SetCoefficient(a, 1)\n",
    "constraint2.SetCoefficient(b, -1)\n",
    "\n",
    "constraint3 = solver.Constraint(-solver.infinity(), -eps)\n",
    "constraint3.SetCoefficient(b, 1)\n",
    "constraint3.SetCoefficient(c, -1)\n",
    "\n",
    "# Define our objective: maximizing 3x + 4y.\n",
    "objective = solver.Objective()\n",
    "objective.SetCoefficient(a, 1)\n",
    "objective.SetCoefficient(b, 1)\n",
    "objective.SetCoefficient(c, 1)\n",
    "objective.SetMinimization()\n",
    "\n",
    "# Solve the system.\n",
    "status = solver.Solve()"
   ]
  },
  {
   "cell_type": "code",
   "execution_count": 11,
   "metadata": {
    "collapsed": false
   },
   "outputs": [
    {
     "data": {
      "text/plain": [
       "4.0"
      ]
     },
     "execution_count": 11,
     "metadata": {},
     "output_type": "execute_result"
    }
   ],
   "source": [
    "c.solution_value()"
   ]
  },
  {
   "cell_type": "code",
   "execution_count": 12,
   "metadata": {
    "collapsed": false
   },
   "outputs": [
    {
     "data": {
      "text/plain": [
       "1.0"
      ]
     },
     "execution_count": 12,
     "metadata": {},
     "output_type": "execute_result"
    }
   ],
   "source": [
    "objective.GetCoefficient(c)"
   ]
  },
  {
   "cell_type": "code",
   "execution_count": null,
   "metadata": {
    "collapsed": true
   },
   "outputs": [],
   "source": []
  }
 ],
 "metadata": {
  "kernelspec": {
   "display_name": "Python 3",
   "language": "python",
   "name": "python3"
  },
  "language_info": {
   "codemirror_mode": {
    "name": "ipython",
    "version": 3
   },
   "file_extension": ".py",
   "mimetype": "text/x-python",
   "name": "python",
   "nbconvert_exporter": "python",
   "pygments_lexer": "ipython3",
   "version": "3.5.1"
  }
 },
 "nbformat": 4,
 "nbformat_minor": 0
}
