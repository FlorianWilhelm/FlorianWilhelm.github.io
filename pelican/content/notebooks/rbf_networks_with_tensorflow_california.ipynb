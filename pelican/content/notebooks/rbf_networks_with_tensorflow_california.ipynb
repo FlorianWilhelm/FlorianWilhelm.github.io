{
 "cells": [
  {
   "cell_type": "code",
   "execution_count": 125,
   "metadata": {
    "collapsed": false
   },
   "outputs": [
    {
     "name": "stdout",
     "output_type": "stream",
     "text": [
      "The autoreload extension is already loaded. To reload it, use:\n",
      "  %reload_ext autoreload\n"
     ]
    },
    {
     "name": "stderr",
     "output_type": "stream",
     "text": [
      "/home/fwilhelm/.virtualenvs/venv3/lib/python3.4/site-packages/matplotlib/__init__.py:872: UserWarning: axes.color_cycle is deprecated and replaced with axes.prop_cycle; please use the latter.\n",
      "  warnings.warn(self.msg_depr % (key, alt_key))\n"
     ]
    }
   ],
   "source": [
    "%matplotlib inline\n",
    "%load_ext autoreload\n",
    "%autoreload 2\n",
    "\n",
    "from datetime import datetime\n",
    "\n",
    "import random\n",
    "import pyprind\n",
    "import matplotlib\n",
    "import matplotlib.pyplot as plt\n",
    "import numpy as np\n",
    "from matplotlib.dates import MonthLocator, WeekdayLocator, DateFormatter\n",
    "import seaborn as sns\n",
    "from sklearn.cluster import k_means\n",
    "from sklearn.preprocessing import StandardScaler, MinMaxScaler\n",
    "from sklearn.datasets import california_housing\n",
    "from sklearn.cross_validation import train_test_split\n",
    "from sklearn.metrics import mean_squared_error, median_absolute_error\n",
    "from sklearn.linear_model import LinearRegression\n",
    "from numpy.random import randint\n",
    "\n",
    "sns.set(context='notebook', style='whitegrid', font_scale=2)\n",
    "matplotlib.rcParams['figure.figsize'] = (12.0, 6.0)"
   ]
  },
  {
   "cell_type": "code",
   "execution_count": 36,
   "metadata": {
    "collapsed": false
   },
   "outputs": [],
   "source": [
    "import sklearn\n",
    "import tensorflow as tf\n",
    "import pandas as pd"
   ]
  },
  {
   "cell_type": "code",
   "execution_count": 37,
   "metadata": {
    "collapsed": false
   },
   "outputs": [
    {
     "data": {
      "text/html": [
       "<div>\n",
       "<table border=\"1\" class=\"dataframe\">\n",
       "  <thead>\n",
       "    <tr style=\"text-align: right;\">\n",
       "      <th></th>\n",
       "      <th>longitude</th>\n",
       "      <th>latitude</th>\n",
       "      <th>housingMedianAge</th>\n",
       "      <th>totalRooms</th>\n",
       "      <th>totalBedrooms</th>\n",
       "      <th>population</th>\n",
       "      <th>households</th>\n",
       "      <th>medianIncome</th>\n",
       "      <th>medianHouseValue</th>\n",
       "    </tr>\n",
       "  </thead>\n",
       "  <tbody>\n",
       "    <tr>\n",
       "      <th>0</th>\n",
       "      <td>-122.23</td>\n",
       "      <td>37.88</td>\n",
       "      <td>41</td>\n",
       "      <td>880</td>\n",
       "      <td>129</td>\n",
       "      <td>322</td>\n",
       "      <td>126</td>\n",
       "      <td>8.3252</td>\n",
       "      <td>452600</td>\n",
       "    </tr>\n",
       "    <tr>\n",
       "      <th>1</th>\n",
       "      <td>-122.22</td>\n",
       "      <td>37.86</td>\n",
       "      <td>21</td>\n",
       "      <td>7099</td>\n",
       "      <td>1106</td>\n",
       "      <td>2401</td>\n",
       "      <td>1138</td>\n",
       "      <td>8.3014</td>\n",
       "      <td>358500</td>\n",
       "    </tr>\n",
       "    <tr>\n",
       "      <th>2</th>\n",
       "      <td>-122.24</td>\n",
       "      <td>37.85</td>\n",
       "      <td>52</td>\n",
       "      <td>1467</td>\n",
       "      <td>190</td>\n",
       "      <td>496</td>\n",
       "      <td>177</td>\n",
       "      <td>7.2574</td>\n",
       "      <td>352100</td>\n",
       "    </tr>\n",
       "    <tr>\n",
       "      <th>3</th>\n",
       "      <td>-122.25</td>\n",
       "      <td>37.85</td>\n",
       "      <td>52</td>\n",
       "      <td>1274</td>\n",
       "      <td>235</td>\n",
       "      <td>558</td>\n",
       "      <td>219</td>\n",
       "      <td>5.6431</td>\n",
       "      <td>341300</td>\n",
       "    </tr>\n",
       "    <tr>\n",
       "      <th>4</th>\n",
       "      <td>-122.25</td>\n",
       "      <td>37.85</td>\n",
       "      <td>52</td>\n",
       "      <td>1627</td>\n",
       "      <td>280</td>\n",
       "      <td>565</td>\n",
       "      <td>259</td>\n",
       "      <td>3.8462</td>\n",
       "      <td>342200</td>\n",
       "    </tr>\n",
       "  </tbody>\n",
       "</table>\n",
       "</div>"
      ],
      "text/plain": [
       "   longitude  latitude  housingMedianAge  totalRooms  totalBedrooms  \\\n",
       "0    -122.23     37.88                41         880            129   \n",
       "1    -122.22     37.86                21        7099           1106   \n",
       "2    -122.24     37.85                52        1467            190   \n",
       "3    -122.25     37.85                52        1274            235   \n",
       "4    -122.25     37.85                52        1627            280   \n",
       "\n",
       "   population  households  medianIncome  medianHouseValue  \n",
       "0         322         126        8.3252            452600  \n",
       "1        2401        1138        8.3014            358500  \n",
       "2         496         177        7.2574            352100  \n",
       "3         558         219        5.6431            341300  \n",
       "4         565         259        3.8462            342200  "
      ]
     },
     "execution_count": 37,
     "metadata": {},
     "output_type": "execute_result"
    }
   ],
   "source": [
    "col_names = [x.split(':')[0] for x in open('input/cal_housing.domain').readlines()]\n",
    "df = pd.read_csv('./input/cal_housing.data', names=col_names)\n",
    "df.head()"
   ]
  },
  {
   "cell_type": "code",
   "execution_count": 38,
   "metadata": {
    "collapsed": false
   },
   "outputs": [
    {
     "data": {
      "text/html": [
       "<div>\n",
       "<table border=\"1\" class=\"dataframe\">\n",
       "  <thead>\n",
       "    <tr style=\"text-align: right;\">\n",
       "      <th></th>\n",
       "      <th>longitude</th>\n",
       "      <th>latitude</th>\n",
       "      <th>housingMedianAge</th>\n",
       "      <th>avgRooms</th>\n",
       "      <th>avgBedrooms</th>\n",
       "      <th>population</th>\n",
       "      <th>medianIncome</th>\n",
       "      <th>medianHouseValue</th>\n",
       "      <th>avgOccupation</th>\n",
       "    </tr>\n",
       "  </thead>\n",
       "  <tbody>\n",
       "    <tr>\n",
       "      <th>0</th>\n",
       "      <td>-122.23</td>\n",
       "      <td>37.88</td>\n",
       "      <td>41</td>\n",
       "      <td>6.984127</td>\n",
       "      <td>1.023810</td>\n",
       "      <td>322</td>\n",
       "      <td>8.3252</td>\n",
       "      <td>4.526</td>\n",
       "      <td>2.555556</td>\n",
       "    </tr>\n",
       "    <tr>\n",
       "      <th>1</th>\n",
       "      <td>-122.22</td>\n",
       "      <td>37.86</td>\n",
       "      <td>21</td>\n",
       "      <td>6.238137</td>\n",
       "      <td>0.971880</td>\n",
       "      <td>2401</td>\n",
       "      <td>8.3014</td>\n",
       "      <td>3.585</td>\n",
       "      <td>2.109842</td>\n",
       "    </tr>\n",
       "    <tr>\n",
       "      <th>2</th>\n",
       "      <td>-122.24</td>\n",
       "      <td>37.85</td>\n",
       "      <td>52</td>\n",
       "      <td>8.288136</td>\n",
       "      <td>1.073446</td>\n",
       "      <td>496</td>\n",
       "      <td>7.2574</td>\n",
       "      <td>3.521</td>\n",
       "      <td>2.802260</td>\n",
       "    </tr>\n",
       "    <tr>\n",
       "      <th>3</th>\n",
       "      <td>-122.25</td>\n",
       "      <td>37.85</td>\n",
       "      <td>52</td>\n",
       "      <td>5.817352</td>\n",
       "      <td>1.073059</td>\n",
       "      <td>558</td>\n",
       "      <td>5.6431</td>\n",
       "      <td>3.413</td>\n",
       "      <td>2.547945</td>\n",
       "    </tr>\n",
       "    <tr>\n",
       "      <th>4</th>\n",
       "      <td>-122.25</td>\n",
       "      <td>37.85</td>\n",
       "      <td>52</td>\n",
       "      <td>6.281853</td>\n",
       "      <td>1.081081</td>\n",
       "      <td>565</td>\n",
       "      <td>3.8462</td>\n",
       "      <td>3.422</td>\n",
       "      <td>2.181467</td>\n",
       "    </tr>\n",
       "  </tbody>\n",
       "</table>\n",
       "</div>"
      ],
      "text/plain": [
       "   longitude  latitude  housingMedianAge  avgRooms  avgBedrooms  population  \\\n",
       "0    -122.23     37.88                41  6.984127     1.023810         322   \n",
       "1    -122.22     37.86                21  6.238137     0.971880        2401   \n",
       "2    -122.24     37.85                52  8.288136     1.073446         496   \n",
       "3    -122.25     37.85                52  5.817352     1.073059         558   \n",
       "4    -122.25     37.85                52  6.281853     1.081081         565   \n",
       "\n",
       "   medianIncome  medianHouseValue  avgOccupation  \n",
       "0        8.3252             4.526       2.555556  \n",
       "1        8.3014             3.585       2.109842  \n",
       "2        7.2574             3.521       2.802260  \n",
       "3        5.6431             3.413       2.547945  \n",
       "4        3.8462             3.422       2.181467  "
      ]
     },
     "execution_count": 38,
     "metadata": {},
     "output_type": "execute_result"
    }
   ],
   "source": [
    "for col in ('totalBedrooms', 'totalRooms'):\n",
    "    df[col] /= df['households']\n",
    "    df = df.rename(columns={col: col.replace('total', 'avg')})\n",
    "df['avgOccupation'] = df['population'] / df['households']\n",
    "df = df.drop('households', axis=1)\n",
    "df['medianHouseValue'] /= 100000\n",
    "df.head()"
   ]
  },
  {
   "cell_type": "code",
   "execution_count": 39,
   "metadata": {
    "collapsed": false
   },
   "outputs": [
    {
     "data": {
      "text/html": [
       "<div>\n",
       "<table border=\"1\" class=\"dataframe\">\n",
       "  <thead>\n",
       "    <tr style=\"text-align: right;\">\n",
       "      <th></th>\n",
       "      <th>longitude</th>\n",
       "      <th>latitude</th>\n",
       "      <th>housingMedianAge</th>\n",
       "      <th>avgRooms</th>\n",
       "      <th>avgBedrooms</th>\n",
       "      <th>population</th>\n",
       "      <th>medianIncome</th>\n",
       "      <th>medianHouseValue</th>\n",
       "      <th>avgOccupation</th>\n",
       "    </tr>\n",
       "  </thead>\n",
       "  <tbody>\n",
       "    <tr>\n",
       "      <th>count</th>\n",
       "      <td>20640.000000</td>\n",
       "      <td>20640.000000</td>\n",
       "      <td>20640.000000</td>\n",
       "      <td>20640.000000</td>\n",
       "      <td>20640.000000</td>\n",
       "      <td>20640.000000</td>\n",
       "      <td>20640.000000</td>\n",
       "      <td>20640.000000</td>\n",
       "      <td>20640.000000</td>\n",
       "    </tr>\n",
       "    <tr>\n",
       "      <th>mean</th>\n",
       "      <td>-119.569704</td>\n",
       "      <td>35.631861</td>\n",
       "      <td>28.639486</td>\n",
       "      <td>5.429000</td>\n",
       "      <td>1.096675</td>\n",
       "      <td>1425.476744</td>\n",
       "      <td>3.870671</td>\n",
       "      <td>2.068558</td>\n",
       "      <td>3.070655</td>\n",
       "    </tr>\n",
       "    <tr>\n",
       "      <th>std</th>\n",
       "      <td>2.003532</td>\n",
       "      <td>2.135952</td>\n",
       "      <td>12.585558</td>\n",
       "      <td>2.474173</td>\n",
       "      <td>0.473911</td>\n",
       "      <td>1132.462122</td>\n",
       "      <td>1.899822</td>\n",
       "      <td>1.153956</td>\n",
       "      <td>10.386050</td>\n",
       "    </tr>\n",
       "    <tr>\n",
       "      <th>min</th>\n",
       "      <td>-124.350000</td>\n",
       "      <td>32.540000</td>\n",
       "      <td>1.000000</td>\n",
       "      <td>0.846154</td>\n",
       "      <td>0.333333</td>\n",
       "      <td>3.000000</td>\n",
       "      <td>0.499900</td>\n",
       "      <td>0.149990</td>\n",
       "      <td>0.692308</td>\n",
       "    </tr>\n",
       "    <tr>\n",
       "      <th>25%</th>\n",
       "      <td>-121.800000</td>\n",
       "      <td>33.930000</td>\n",
       "      <td>18.000000</td>\n",
       "      <td>4.440716</td>\n",
       "      <td>1.006079</td>\n",
       "      <td>787.000000</td>\n",
       "      <td>2.563400</td>\n",
       "      <td>1.196000</td>\n",
       "      <td>2.429741</td>\n",
       "    </tr>\n",
       "    <tr>\n",
       "      <th>50%</th>\n",
       "      <td>-118.490000</td>\n",
       "      <td>34.260000</td>\n",
       "      <td>29.000000</td>\n",
       "      <td>5.229129</td>\n",
       "      <td>1.048780</td>\n",
       "      <td>1166.000000</td>\n",
       "      <td>3.534800</td>\n",
       "      <td>1.797000</td>\n",
       "      <td>2.818116</td>\n",
       "    </tr>\n",
       "    <tr>\n",
       "      <th>75%</th>\n",
       "      <td>-118.010000</td>\n",
       "      <td>37.710000</td>\n",
       "      <td>37.000000</td>\n",
       "      <td>6.052381</td>\n",
       "      <td>1.099526</td>\n",
       "      <td>1725.000000</td>\n",
       "      <td>4.743250</td>\n",
       "      <td>2.647250</td>\n",
       "      <td>3.282261</td>\n",
       "    </tr>\n",
       "    <tr>\n",
       "      <th>max</th>\n",
       "      <td>-114.310000</td>\n",
       "      <td>41.950000</td>\n",
       "      <td>52.000000</td>\n",
       "      <td>141.909091</td>\n",
       "      <td>34.066667</td>\n",
       "      <td>35682.000000</td>\n",
       "      <td>15.000100</td>\n",
       "      <td>5.000010</td>\n",
       "      <td>1243.333333</td>\n",
       "    </tr>\n",
       "  </tbody>\n",
       "</table>\n",
       "</div>"
      ],
      "text/plain": [
       "          longitude      latitude  housingMedianAge      avgRooms  \\\n",
       "count  20640.000000  20640.000000      20640.000000  20640.000000   \n",
       "mean    -119.569704     35.631861         28.639486      5.429000   \n",
       "std        2.003532      2.135952         12.585558      2.474173   \n",
       "min     -124.350000     32.540000          1.000000      0.846154   \n",
       "25%     -121.800000     33.930000         18.000000      4.440716   \n",
       "50%     -118.490000     34.260000         29.000000      5.229129   \n",
       "75%     -118.010000     37.710000         37.000000      6.052381   \n",
       "max     -114.310000     41.950000         52.000000    141.909091   \n",
       "\n",
       "        avgBedrooms    population  medianIncome  medianHouseValue  \\\n",
       "count  20640.000000  20640.000000  20640.000000      20640.000000   \n",
       "mean       1.096675   1425.476744      3.870671          2.068558   \n",
       "std        0.473911   1132.462122      1.899822          1.153956   \n",
       "min        0.333333      3.000000      0.499900          0.149990   \n",
       "25%        1.006079    787.000000      2.563400          1.196000   \n",
       "50%        1.048780   1166.000000      3.534800          1.797000   \n",
       "75%        1.099526   1725.000000      4.743250          2.647250   \n",
       "max       34.066667  35682.000000     15.000100          5.000010   \n",
       "\n",
       "       avgOccupation  \n",
       "count   20640.000000  \n",
       "mean        3.070655  \n",
       "std        10.386050  \n",
       "min         0.692308  \n",
       "25%         2.429741  \n",
       "50%         2.818116  \n",
       "75%         3.282261  \n",
       "max      1243.333333  "
      ]
     },
     "execution_count": 39,
     "metadata": {},
     "output_type": "execute_result"
    }
   ],
   "source": [
    "df.describe()"
   ]
  },
  {
   "cell_type": "code",
   "execution_count": 40,
   "metadata": {
    "collapsed": false
   },
   "outputs": [
    {
     "data": {
      "text/plain": [
       "<matplotlib.axes._subplots.AxesSubplot at 0x7f4dbc84be10>"
      ]
     },
     "execution_count": 40,
     "metadata": {},
     "output_type": "execute_result"
    },
    {
     "data": {
      "image/png": "[encoded data removed]",
      "text/plain": [
       "<matplotlib.figure.Figure at 0x7f4ddc3b6208>"
      ]
     },
     "metadata": {},
     "output_type": "display_data"
    }
   ],
   "source": [
    "sns.distplot(df.medianHouseValue, bins=100)"
   ]
  },
  {
   "cell_type": "code",
   "execution_count": 41,
   "metadata": {
    "collapsed": false
   },
   "outputs": [],
   "source": [
    "target = 'medianHouseValue'\n",
    "X = df.drop(target, axis=1).values\n",
    "y = df[target].values[:, np.newaxis]\n",
    "\n",
    "X_train, X_test, y_train, y_test = train_test_split(X, y, test_size=0.2, random_state=42)"
   ]
  },
  {
   "cell_type": "code",
   "execution_count": 42,
   "metadata": {
    "collapsed": false
   },
   "outputs": [
    {
     "data": {
      "text/plain": [
       "(16512, 1)"
      ]
     },
     "execution_count": 42,
     "metadata": {},
     "output_type": "execute_result"
    }
   ],
   "source": [
    "y_train.shape"
   ]
  },
  {
   "cell_type": "code",
   "execution_count": 43,
   "metadata": {
    "collapsed": false
   },
   "outputs": [
    {
     "data": {
      "text/plain": [
       "<matplotlib.axes._subplots.AxesSubplot at 0x7f4df4187d68>"
      ]
     },
     "execution_count": 43,
     "metadata": {},
     "output_type": "execute_result"
    },
    {
     "data": {
      "image/png": "[encoded data removed]",
      "text/plain": [
       "<matplotlib.figure.Figure at 0x7f4ddc4054a8>"
      ]
     },
     "metadata": {},
     "output_type": "display_data"
    }
   ],
   "source": [
    "sns.distplot(y_train, kde=False, bins=50)"
   ]
  },
  {
   "cell_type": "code",
   "execution_count": 44,
   "metadata": {
    "collapsed": false
   },
   "outputs": [],
   "source": [
    "scaler = MinMaxScaler()\n",
    "\n",
    "X_train = scaler.fit_transform(X_train)\n",
    "X_test = scaler.transform(X_test)"
   ]
  },
  {
   "cell_type": "code",
   "execution_count": 45,
   "metadata": {
    "collapsed": false,
    "scrolled": true
   },
   "outputs": [
    {
     "data": {
      "text/plain": [
       "array([[ 0.2450249 ,  0.57832236,  0.60126085,  0.03367054,  0.03000224,\n",
       "         0.03285442,  0.23679148,  0.00191293],\n",
       "       [ 0.22864106,  0.5666182 ,  0.91961158,  0.02945324,  0.02878683,\n",
       "         0.02734535,  0.20429444,  0.0023329 ],\n",
       "       [ 0.63185077,  0.14367747,  0.60271836,  0.02771682,  0.02864658,\n",
       "         0.04015085,  0.19931211,  0.0019958 ],\n",
       "       [ 0.4516854 ,  0.38084897,  0.36297623,  0.03350033,  0.0321969 ,\n",
       "         0.03842919,  0.16844364,  0.00194564],\n",
       "       [ 0.61012264,  0.15791156,  0.86037377,  0.02735275,  0.02840966,\n",
       "         0.03044118,  0.19462936,  0.00211349],\n",
       "       [ 0.25807829,  0.61322119,  0.2853128 ,  0.03735627,  0.03311533,\n",
       "         0.04541449,  0.25013972,  0.00170057],\n",
       "       [ 0.67588129,  0.12338488,  0.2567102 ,  0.0337937 ,  0.03182326,\n",
       "         0.05650078,  0.24584665,  0.00176273],\n",
       "       [ 0.60758687,  0.15017273,  0.51650869,  0.0439221 ,  0.02782102,\n",
       "         0.03722677,  0.51427744,  0.00177856]])"
      ]
     },
     "execution_count": 45,
     "metadata": {},
     "output_type": "execute_result"
    }
   ],
   "source": [
    "k_means(X_train, 8)[0]"
   ]
  },
  {
   "cell_type": "code",
   "execution_count": 46,
   "metadata": {
    "collapsed": false
   },
   "outputs": [],
   "source": [
    "def random_index_list(list_size, sample_size):\n",
    "    '''\n",
    "    Creates a list of random integers that are constrained in the max value. May\n",
    " have repeating indexes.\n",
    "    :param list_size: Integer denoting the length of the final list.\n",
    "    :param sample_size: Integer denoting the maximum index to include.\n",
    "    :return: List of integers.\n",
    "    '''\n",
    "\n",
    "    return [random.randint(0, sample_size - 1) for i in range(0, list_size)]\n"
   ]
  },
  {
   "cell_type": "code",
   "execution_count": 114,
   "metadata": {
    "collapsed": false
   },
   "outputs": [],
   "source": [
    "class ANN(object):\n",
    "    def __init__(self, n_hidden):\n",
    "        self.n_hidden = n_hidden\n",
    "        self._graph = tf.Graph()\n",
    "        self.session = None\n",
    "        self._initialized = False\n",
    "\n",
    "    def get_model(self, n_features, means):\n",
    "        with tf.name_scope('input'):\n",
    "            x = tf.placeholder(\"float\", shape=[None, n_features], name='X')\n",
    "            self._x = x\n",
    "        with tf.name_scope('hidden'):\n",
    "            c = [tf.Variable(tf.constant(means[i,:].astype(np.float32), shape=[1, n_features]), name='c')\n",
    "                 for i in range(self.n_hidden)]\n",
    "            r = [tf.Variable([0.1], name=\"r\")\n",
    "                 for i in range(self.n_hidden)]\n",
    "            h = [tf.exp(-tf.div(tf.reduce_sum(tf.square(tf.sub(x, c[i])), 1, keep_dims=True), tf.square(r[i]))) \n",
    "                 for i in range(self.n_hidden)]\n",
    "            self._c, self._r = c, r\n",
    "        with tf.name_scope('output'):\n",
    "            a = tf.Variable(tf.truncated_normal([self.n_hidden, 1], stddev=0.01), name='A')\n",
    "            y = tf.matmul(tf.concat(1, h), a)\n",
    "            self._a = a\n",
    "        return y\n",
    "\n",
    "    def add_cost(self, yhat):\n",
    "        self._y = tf.placeholder(\"float\", shape=[None, 1], name='Y')\n",
    "        loss = tf.nn.l2_loss(tf.sub(self._y, yhat))\n",
    "        return loss\n",
    "\n",
    "    def _init(self, n_features, means):\n",
    "        with self._graph.as_default():\n",
    "            self._model = self.get_model(n_features, means)\n",
    "            self._costfunc = self.add_cost(self._model)\n",
    "            self._train_a = tf.train.AdamOptimizer().minimize(self._costfunc, var_list=[self._a])\n",
    "            self._train_rbf = tf.train.AdamOptimizer().minimize(self._costfunc, var_list=self._c)\n",
    "            #self.summaries = tf.merge_all_summaries()\n",
    "            self.session = tf.Session(graph=self._graph)\n",
    "            self.session.run(tf.initialize_all_variables())\n",
    "            self._writer = tf.train.SummaryWriter(\"./logs\", self.session.graph_def)\n",
    "            #self.saver = tf.train.Saver()\n",
    "            self._initialized = True\n",
    "        \n",
    "    def _fit(self, X, y, steps=50, batch=200):\n",
    "        n_samples = X.shape[0]\n",
    "\n",
    "        for step in xrange(steps):\n",
    "            batch_indices = randint(n_samples, size=self.batch)\n",
    "            pbar.update()\n",
    "            x = X[batch_indices]\n",
    "            y_ = y[batch_indices]\n",
    "            if run % 1000 == 0:\n",
    "               result, cost = self.session.run([self.summaries, self._costfunc], feed_dict={self._x: x, self._y_: y_})\n",
    "               #print(\"Cost: {}\".format(cost))\n",
    "               self.writer.add_summary(result, run)\n",
    "            else:\n",
    "                self.session.run([self._train_step], feed_dict={self._x: x, self._y_: y_})\n",
    "    \n",
    "    def get_variables(self):\n",
    "        with self._graph.as_default():\n",
    "            return {var.name: var for var in tf.all_variables()}\n",
    "                \n",
    "    def fit(self, X, y, steps=50, batch=200):\n",
    "        n_samples, n_features = X.shape\n",
    "\n",
    "        if not self._initialized:\n",
    "            means = k_means(X, self.n_hidden, random_state=42)[0]\n",
    "            self._init(n_features, means)\n",
    "\n",
    "        pbar = pyprind.ProgBar(steps)\n",
    "        for step in range(steps):\n",
    "            for i in range(100):\n",
    "                batch_indices = randint(n_samples, size=batch)\n",
    "                self.session.run(self._train_a, feed_dict={self._x: X[batch_indices,:],\n",
    "                                                           self._y: y[batch_indices]})\n",
    "            for i in range(10):\n",
    "                batch_indices = randint(n_samples, size=batch)\n",
    "                self.session.run(self._train_rbf, feed_dict={self._x: X[batch_indices],\n",
    "                                                             self._y: y[batch_indices]})\n",
    "            for i in range(100):\n",
    "                batch_indices = randint(n_samples, size=batch)\n",
    "                self.session.run(self._train_a, feed_dict={self._x: X[batch_indices,:],\n",
    "                                                           self._y: y[batch_indices]})\n",
    "            _, cost = self.session.run([self._train_a, self._costfunc], feed_dict={self._x: X[batch_indices, :],\n",
    "                                                               self._y: y[batch_indices]})\n",
    "            print(\"Cost: {}\".format(cost))\n",
    "            pbar.update()\n",
    "        return self\n",
    "\n",
    "    def predict(self, X):\n",
    "        return self.session.run(self._model, feed_dict={self._x: X})"
   ]
  },
  {
   "cell_type": "code",
   "execution_count": 115,
   "metadata": {
    "collapsed": false,
    "scrolled": false
   },
   "outputs": [],
   "source": [
    "ann = ANN(15)"
   ]
  },
  {
   "cell_type": "code",
   "execution_count": 122,
   "metadata": {
    "collapsed": false
   },
   "outputs": [
    {
     "name": "stderr",
     "output_type": "stream",
     "text": [
      "0%                          100%\n",
      "[                              ]"
     ]
    },
    {
     "name": "stdout",
     "output_type": "stream",
     "text": [
      "Cost: 212.50299072265625\n",
      "Cost: 174.17495727539062\n",
      "Cost: 232.98245239257812\n",
      "Cost: 240.62869262695312\n",
      "Cost: 219.45289611816406\n",
      "Cost: 200.84811401367188\n",
      "Cost: 192.1119842529297\n",
      "Cost: 250.87774658203125\n",
      "Cost: 201.32940673828125\n",
      "Cost: 218.2464599609375\n",
      "Cost: 191.7954864501953\n",
      "Cost: 209.52642822265625\n",
      "Cost: 166.6650848388672\n",
      "Cost: 247.16859436035156\n",
      "Cost: 245.22650146484375\n",
      "Cost: 252.22552490234375\n",
      "Cost: 232.51983642578125\n",
      "Cost: 172.82199096679688\n",
      "Cost: 188.606201171875\n",
      "Cost: 213.22940063476562\n",
      "Cost: 200.70559692382812\n",
      "Cost: 246.81329345703125\n",
      "Cost: 186.64981079101562\n",
      "Cost: 215.1568145751953\n",
      "Cost: 219.70877075195312\n",
      "Cost: 241.1107177734375\n",
      "Cost: 196.97560119628906\n",
      "Cost: 228.8062744140625\n",
      "Cost: 220.72982788085938\n",
      "Cost: 209.7710418701172\n",
      "Cost: 260.93353271484375\n",
      "Cost: 264.3656005859375\n",
      "Cost: 196.7989044189453\n",
      "Cost: 219.68487548828125"
     ]
    },
    {
     "name": "stderr",
     "output_type": "stream",
     "text": [
      "[#                             ] | ETA: 00:03:11"
     ]
    },
    {
     "name": "stdout",
     "output_type": "stream",
     "text": [
      "\n",
      "Cost: 199.51644897460938\n",
      "Cost: 186.70196533203125\n",
      "Cost: 213.25582885742188\n",
      "Cost: 283.1278381347656\n",
      "Cost: 143.53550720214844\n",
      "Cost: 198.67562866210938\n",
      "Cost: 244.87649536132812\n",
      "Cost: 203.5875244140625\n",
      "Cost: 221.15936279296875\n",
      "Cost: 209.43214416503906\n",
      "Cost: 227.65008544921875\n",
      "Cost: 212.54458618164062\n",
      "Cost: 212.61460876464844\n",
      "Cost: 234.64306640625\n",
      "Cost: 217.03292846679688\n",
      "Cost: 241.8431396484375\n",
      "Cost: 196.375244140625\n",
      "Cost: 171.58627319335938\n",
      "Cost: 215.1170654296875\n",
      "Cost: 187.21791076660156\n",
      "Cost: 207.95628356933594\n",
      "Cost: 205.15994262695312\n",
      "Cost: 221.03536987304688\n",
      "Cost: 232.6841278076172\n",
      "Cost: 213.09603881835938\n",
      "Cost: 204.9274139404297\n",
      "Cost: 265.7167663574219\n",
      "Cost: 233.4307861328125\n",
      "Cost: 191.02804565429688\n",
      "Cost: 187.72323608398438\n",
      "Cost: 262.6336669921875\n",
      "Cost: 171.65980529785156\n",
      "Cost: 169.5773468017578"
     ]
    },
    {
     "name": "stderr",
     "output_type": "stream",
     "text": [
      "[##                            ] | ETA: 00:03:05"
     ]
    },
    {
     "name": "stdout",
     "output_type": "stream",
     "text": [
      "\n",
      "Cost: 174.9483642578125\n",
      "Cost: 237.47674560546875\n",
      "Cost: 210.16046142578125\n",
      "Cost: 173.5238037109375\n",
      "Cost: 247.5929412841797\n",
      "Cost: 201.35223388671875\n",
      "Cost: 220.61965942382812\n",
      "Cost: 261.97991943359375\n",
      "Cost: 154.2888641357422\n",
      "Cost: 263.16925048828125\n",
      "Cost: 218.23451232910156\n",
      "Cost: 208.02638244628906\n",
      "Cost: 143.49685668945312\n",
      "Cost: 197.92572021484375\n",
      "Cost: 191.46429443359375\n",
      "Cost: 186.98690795898438\n",
      "Cost: 223.13818359375\n",
      "Cost: 218.49819946289062\n",
      "Cost: 221.57989501953125\n",
      "Cost: 205.50242614746094\n",
      "Cost: 210.0850067138672\n",
      "Cost: 241.23211669921875\n",
      "Cost: 202.53726196289062\n",
      "Cost: 225.9296875\n",
      "Cost: 205.60418701171875\n",
      "Cost: 229.70016479492188\n",
      "Cost: 211.03750610351562\n",
      "Cost: 213.42001342773438\n",
      "Cost: 211.50086975097656\n",
      "Cost: 201.07937622070312\n",
      "Cost: 224.20693969726562\n",
      "Cost: 178.43356323242188\n",
      "Cost: 216.7584991455078"
     ]
    },
    {
     "name": "stderr",
     "output_type": "stream",
     "text": [
      "[###                           ] | ETA: 00:02:57"
     ]
    },
    {
     "name": "stdout",
     "output_type": "stream",
     "text": [
      "\n",
      "Cost: 179.51821899414062\n",
      "Cost: 195.07176208496094\n",
      "Cost: 231.13848876953125\n",
      "Cost: 199.18186950683594\n",
      "Cost: 231.10816955566406\n",
      "Cost: 212.1973876953125\n",
      "Cost: 233.1840057373047\n",
      "Cost: 186.3816680908203\n",
      "Cost: 191.58486938476562\n",
      "Cost: 210.19024658203125\n",
      "Cost: 212.24874877929688\n",
      "Cost: 217.4458465576172\n",
      "Cost: 294.60089111328125\n",
      "Cost: 267.61676025390625\n",
      "Cost: 264.3536071777344\n",
      "Cost: 194.82737731933594\n",
      "Cost: 235.77040100097656\n",
      "Cost: 224.462646484375\n",
      "Cost: 264.17236328125\n",
      "Cost: 204.50672912597656\n",
      "Cost: 216.39736938476562\n",
      "Cost: 187.33255004882812\n",
      "Cost: 186.53854370117188\n",
      "Cost: 236.06460571289062\n",
      "Cost: 215.04197692871094\n",
      "Cost: 211.45587158203125\n",
      "Cost: 252.41790771484375\n",
      "Cost: 250.3499298095703\n",
      "Cost: 177.06509399414062\n",
      "Cost: 218.96975708007812\n",
      "Cost: 238.86907958984375\n",
      "Cost: 200.88027954101562\n",
      "Cost: 226.70571899414062\n",
      "Cost: 243.72738647460938"
     ]
    },
    {
     "name": "stderr",
     "output_type": "stream",
     "text": [
      "[####                          ] | ETA: 00:02:52"
     ]
    },
    {
     "name": "stdout",
     "output_type": "stream",
     "text": [
      "\n",
      "Cost: 236.7530059814453\n",
      "Cost: 189.77113342285156\n",
      "Cost: 191.1948699951172\n",
      "Cost: 244.05001831054688\n",
      "Cost: 198.72036743164062\n",
      "Cost: 235.4560546875\n",
      "Cost: 189.2853240966797\n",
      "Cost: 189.75173950195312\n",
      "Cost: 252.51205444335938\n",
      "Cost: 176.7275390625\n",
      "Cost: 205.7620849609375\n",
      "Cost: 247.49871826171875\n",
      "Cost: 182.21014404296875\n",
      "Cost: 170.46572875976562\n",
      "Cost: 221.66827392578125\n",
      "Cost: 200.52818298339844\n",
      "Cost: 219.66603088378906\n",
      "Cost: 175.93374633789062\n",
      "Cost: 210.77517700195312\n",
      "Cost: 219.66085815429688\n",
      "Cost: 223.7984619140625\n",
      "Cost: 191.263671875\n",
      "Cost: 207.92433166503906\n",
      "Cost: 245.6181640625\n",
      "Cost: 235.1150665283203\n",
      "Cost: 166.4063262939453\n",
      "Cost: 233.09774780273438\n",
      "Cost: 181.69866943359375\n",
      "Cost: 225.37936401367188\n",
      "Cost: 255.14251708984375\n",
      "Cost: 218.61331176757812\n",
      "Cost: 178.43316650390625\n",
      "Cost: 243.31192016601562"
     ]
    },
    {
     "name": "stderr",
     "output_type": "stream",
     "text": [
      "[#####                         ] | ETA: 00:02:44"
     ]
    },
    {
     "name": "stdout",
     "output_type": "stream",
     "text": [
      "\n",
      "Cost: 196.8670654296875\n",
      "Cost: 193.9747314453125\n",
      "Cost: 234.953369140625\n",
      "Cost: 153.71658325195312\n",
      "Cost: 226.43466186523438\n",
      "Cost: 150.82630920410156\n",
      "Cost: 238.2085418701172\n",
      "Cost: 158.08738708496094\n",
      "Cost: 246.14173889160156\n",
      "Cost: 188.8199462890625\n",
      "Cost: 211.32110595703125\n",
      "Cost: 215.36715698242188\n",
      "Cost: 202.35195922851562\n",
      "Cost: 207.3733367919922\n",
      "Cost: 223.91348266601562\n",
      "Cost: 198.5168914794922\n",
      "Cost: 216.18756103515625\n",
      "Cost: 196.5847625732422\n",
      "Cost: 223.11659240722656\n",
      "Cost: 194.76290893554688\n",
      "Cost: 203.42221069335938\n",
      "Cost: 185.73654174804688\n",
      "Cost: 166.84388732910156\n",
      "Cost: 206.74693298339844\n",
      "Cost: 248.3155517578125\n",
      "Cost: 197.6057586669922\n",
      "Cost: 193.68423461914062\n",
      "Cost: 144.9596710205078\n",
      "Cost: 225.72439575195312\n",
      "Cost: 197.2435760498047\n",
      "Cost: 176.64108276367188\n",
      "Cost: 153.33184814453125\n",
      "Cost: 198.3557891845703"
     ]
    },
    {
     "name": "stderr",
     "output_type": "stream",
     "text": [
      "[######                        ] | ETA: 00:02:35"
     ]
    },
    {
     "name": "stdout",
     "output_type": "stream",
     "text": [
      "\n",
      "Cost: 192.61636352539062\n",
      "Cost: 248.57847595214844\n",
      "Cost: 163.57598876953125\n",
      "Cost: 246.3185272216797\n",
      "Cost: 171.583984375\n",
      "Cost: 224.7867889404297\n",
      "Cost: 243.86239624023438\n",
      "Cost: 229.79202270507812\n",
      "Cost: 261.415283203125\n",
      "Cost: 203.87811279296875\n",
      "Cost: 209.4398651123047\n",
      "Cost: 187.03921508789062\n",
      "Cost: 229.4244384765625\n",
      "Cost: 206.08444213867188\n",
      "Cost: 259.01470947265625\n",
      "Cost: 234.960205078125\n",
      "Cost: 226.89312744140625\n",
      "Cost: 250.52529907226562\n",
      "Cost: 179.48358154296875\n",
      "Cost: 237.0587158203125\n",
      "Cost: 169.03143310546875\n",
      "Cost: 226.14549255371094\n",
      "Cost: 220.33668518066406\n",
      "Cost: 194.80361938476562\n",
      "Cost: 216.63894653320312\n",
      "Cost: 158.50201416015625\n",
      "Cost: 212.56716918945312\n",
      "Cost: 221.58079528808594\n",
      "Cost: 201.7141876220703\n",
      "Cost: 175.230712890625\n",
      "Cost: 227.24703979492188\n",
      "Cost: 238.34608459472656\n",
      "Cost: 170.14987182617188\n",
      "Cost: 179.3041229248047"
     ]
    },
    {
     "name": "stderr",
     "output_type": "stream",
     "text": [
      "[#######                       ] | ETA: 00:02:28"
     ]
    },
    {
     "name": "stdout",
     "output_type": "stream",
     "text": [
      "\n",
      "Cost: 193.74520874023438\n",
      "Cost: 240.11215209960938\n",
      "Cost: 184.54443359375\n",
      "Cost: 215.23399353027344\n",
      "Cost: 190.90231323242188\n",
      "Cost: 140.55712890625\n",
      "Cost: 272.55133056640625\n",
      "Cost: 223.38201904296875\n",
      "Cost: 204.2099609375\n",
      "Cost: 247.7020721435547\n",
      "Cost: 265.35662841796875\n",
      "Cost: 246.5256805419922\n",
      "Cost: 218.03599548339844\n",
      "Cost: 224.1361083984375\n",
      "Cost: 254.36708068847656\n",
      "Cost: 230.62246704101562\n",
      "Cost: 179.3913116455078\n",
      "Cost: 204.55535888671875\n",
      "Cost: 183.03369140625\n",
      "Cost: 193.7578582763672\n",
      "Cost: 247.62936401367188\n",
      "Cost: 172.15924072265625\n",
      "Cost: 222.73806762695312\n",
      "Cost: 186.11891174316406\n",
      "Cost: 265.0939636230469\n",
      "Cost: 255.12994384765625\n",
      "Cost: 191.9583740234375\n",
      "Cost: 219.69070434570312\n",
      "Cost: 222.42665100097656\n",
      "Cost: 195.1879425048828\n",
      "Cost: 231.3636474609375\n",
      "Cost: 207.57501220703125\n",
      "Cost: 186.4102020263672"
     ]
    },
    {
     "name": "stderr",
     "output_type": "stream",
     "text": [
      "[########                      ] | ETA: 00:02:23"
     ]
    },
    {
     "name": "stdout",
     "output_type": "stream",
     "text": [
      "\n",
      "Cost: 184.99021911621094\n",
      "Cost: 229.27294921875\n",
      "Cost: 204.30215454101562\n",
      "Cost: 184.74710083007812\n",
      "Cost: 239.3601837158203\n",
      "Cost: 208.68316650390625\n",
      "Cost: 179.94082641601562\n",
      "Cost: 216.58204650878906\n",
      "Cost: 177.05267333984375\n",
      "Cost: 267.67486572265625\n",
      "Cost: 181.8691864013672\n",
      "Cost: 247.134765625\n",
      "Cost: 248.1444091796875\n",
      "Cost: 207.07456970214844\n",
      "Cost: 215.17514038085938\n",
      "Cost: 205.21385192871094\n",
      "Cost: 225.7000274658203\n",
      "Cost: 198.6541748046875\n",
      "Cost: 201.823486328125\n",
      "Cost: 238.8485870361328\n",
      "Cost: 188.9889373779297\n",
      "Cost: 203.441162109375\n",
      "Cost: 205.4093475341797\n",
      "Cost: 187.15667724609375\n",
      "Cost: 224.4326171875\n",
      "Cost: 226.18899536132812\n",
      "Cost: 245.84188842773438\n",
      "Cost: 221.14794921875\n",
      "Cost: 179.01541137695312\n",
      "Cost: 234.0360565185547\n",
      "Cost: 277.4349365234375\n",
      "Cost: 133.94427490234375\n",
      "Cost: 150.27200317382812"
     ]
    },
    {
     "name": "stderr",
     "output_type": "stream",
     "text": [
      "[#########                     ] | ETA: 00:02:16"
     ]
    },
    {
     "name": "stdout",
     "output_type": "stream",
     "text": [
      "\n",
      "Cost: 236.03683471679688\n",
      "Cost: 232.3553466796875\n",
      "Cost: 225.74147033691406\n",
      "Cost: 223.2274932861328\n",
      "Cost: 196.91311645507812\n",
      "Cost: 217.8914794921875\n",
      "Cost: 214.53829956054688\n",
      "Cost: 200.90936279296875\n",
      "Cost: 202.56112670898438\n",
      "Cost: 199.95449829101562\n",
      "Cost: 213.009765625\n",
      "Cost: 220.43121337890625\n",
      "Cost: 157.6710205078125\n",
      "Cost: 152.28701782226562\n",
      "Cost: 240.14015197753906\n",
      "Cost: 229.08285522460938\n",
      "Cost: 205.6352996826172\n",
      "Cost: 196.87741088867188\n",
      "Cost: 180.16441345214844\n",
      "Cost: 215.4325714111328\n",
      "Cost: 180.67633056640625\n",
      "Cost: 210.36190795898438\n",
      "Cost: 221.81214904785156\n",
      "Cost: 197.4473876953125\n",
      "Cost: 227.76287841796875\n",
      "Cost: 239.3811798095703\n",
      "Cost: 162.83436584472656\n",
      "Cost: 194.1246337890625\n",
      "Cost: 265.6533203125\n",
      "Cost: 177.5040283203125\n",
      "Cost: 203.111328125\n",
      "Cost: 199.22621154785156\n",
      "Cost: 214.00711059570312\n",
      "Cost: 199.49539184570312"
     ]
    },
    {
     "name": "stderr",
     "output_type": "stream",
     "text": [
      "[##########                    ] | ETA: 00:02:08"
     ]
    },
    {
     "name": "stdout",
     "output_type": "stream",
     "text": [
      "\n",
      "Cost: 246.58563232421875\n",
      "Cost: 198.4591827392578\n",
      "Cost: 245.41458129882812\n",
      "Cost: 194.05313110351562\n",
      "Cost: 226.30648803710938\n",
      "Cost: 185.70556640625\n",
      "Cost: 184.3661346435547\n",
      "Cost: 200.126953125\n",
      "Cost: 212.92864990234375\n",
      "Cost: 264.32318115234375\n",
      "Cost: 162.75262451171875\n",
      "Cost: 229.41485595703125\n",
      "Cost: 213.57150268554688\n",
      "Cost: 241.81430053710938\n",
      "Cost: 223.39044189453125\n"
     ]
    },
    {
     "ename": "KeyboardInterrupt",
     "evalue": "",
     "output_type": "error",
     "traceback": [
      "\u001b[1;31m---------------------------------------------------------------------------\u001b[0m",
      "\u001b[1;31mKeyboardInterrupt\u001b[0m                         Traceback (most recent call last)",
      "\u001b[1;32m<ipython-input-122-6f9e2aa4dbc4>\u001b[0m in \u001b[0;36m<module>\u001b[1;34m()\u001b[0m\n\u001b[1;32m----> 1\u001b[1;33m \u001b[0mann\u001b[0m\u001b[1;33m.\u001b[0m\u001b[0mfit\u001b[0m\u001b[1;33m(\u001b[0m\u001b[0mX_train\u001b[0m\u001b[1;33m,\u001b[0m \u001b[0my_train\u001b[0m\u001b[1;33m,\u001b[0m \u001b[0msteps\u001b[0m\u001b[1;33m=\u001b[0m\u001b[1;36m1000\u001b[0m\u001b[1;33m,\u001b[0m \u001b[0mbatch\u001b[0m\u001b[1;33m=\u001b[0m\u001b[1;36m200\u001b[0m\u001b[1;33m)\u001b[0m\u001b[1;33m\u001b[0m\u001b[0m\n\u001b[0m",
      "\u001b[1;32m<ipython-input-114-5c402b7b48ad>\u001b[0m in \u001b[0;36mfit\u001b[1;34m(self, X, y, steps, batch)\u001b[0m\n\u001b[0;32m     81\u001b[0m                 \u001b[0mbatch_indices\u001b[0m \u001b[1;33m=\u001b[0m \u001b[0mrandint\u001b[0m\u001b[1;33m(\u001b[0m\u001b[0mn_samples\u001b[0m\u001b[1;33m,\u001b[0m \u001b[0msize\u001b[0m\u001b[1;33m=\u001b[0m\u001b[0mbatch\u001b[0m\u001b[1;33m)\u001b[0m\u001b[1;33m\u001b[0m\u001b[0m\n\u001b[0;32m     82\u001b[0m                 self.session.run(self._train_a, feed_dict={self._x: X[batch_indices,:],\n\u001b[1;32m---> 83\u001b[1;33m                                                            self._y: y[batch_indices]})\n\u001b[0m\u001b[0;32m     84\u001b[0m             _, cost = self.session.run([self._train_a, self._costfunc], feed_dict={self._x: X[batch_indices, :],\n\u001b[0;32m     85\u001b[0m                                                                self._y: y[batch_indices]})\n",
      "\u001b[1;32m/home/fwilhelm/.virtualenvs/venv3/lib/python3.4/site-packages/tensorflow/python/client/session.py\u001b[0m in \u001b[0;36mrun\u001b[1;34m(self, fetches, feed_dict)\u001b[0m\n\u001b[0;32m    366\u001b[0m \u001b[1;33m\u001b[0m\u001b[0m\n\u001b[0;32m    367\u001b[0m     \u001b[1;31m# Run request and get response.\u001b[0m\u001b[1;33m\u001b[0m\u001b[1;33m\u001b[0m\u001b[0m\n\u001b[1;32m--> 368\u001b[1;33m     \u001b[0mresults\u001b[0m \u001b[1;33m=\u001b[0m \u001b[0mself\u001b[0m\u001b[1;33m.\u001b[0m\u001b[0m_do_run\u001b[0m\u001b[1;33m(\u001b[0m\u001b[0mtarget_list\u001b[0m\u001b[1;33m,\u001b[0m \u001b[0munique_fetch_targets\u001b[0m\u001b[1;33m,\u001b[0m \u001b[0mfeed_dict_string\u001b[0m\u001b[1;33m)\u001b[0m\u001b[1;33m\u001b[0m\u001b[0m\n\u001b[0m\u001b[0;32m    369\u001b[0m \u001b[1;33m\u001b[0m\u001b[0m\n\u001b[0;32m    370\u001b[0m     \u001b[1;31m# User may have fetched the same tensor multiple times, but we\u001b[0m\u001b[1;33m\u001b[0m\u001b[1;33m\u001b[0m\u001b[0m\n",
      "\u001b[1;32m/home/fwilhelm/.virtualenvs/venv3/lib/python3.4/site-packages/tensorflow/python/client/session.py\u001b[0m in \u001b[0;36m_do_run\u001b[1;34m(self, target_list, fetch_list, feed_dict)\u001b[0m\n\u001b[0;32m    426\u001b[0m \u001b[1;33m\u001b[0m\u001b[0m\n\u001b[0;32m    427\u001b[0m       return tf_session.TF_Run(self._session, feed_dict, fetch_list,\n\u001b[1;32m--> 428\u001b[1;33m                                target_list)\n\u001b[0m\u001b[0;32m    429\u001b[0m \u001b[1;33m\u001b[0m\u001b[0m\n\u001b[0;32m    430\u001b[0m     \u001b[1;32mexcept\u001b[0m \u001b[0mtf_session\u001b[0m\u001b[1;33m.\u001b[0m\u001b[0mStatusNotOK\u001b[0m \u001b[1;32mas\u001b[0m \u001b[0me\u001b[0m\u001b[1;33m:\u001b[0m\u001b[1;33m\u001b[0m\u001b[0m\n",
      "\u001b[1;31mKeyboardInterrupt\u001b[0m: "
     ]
    }
   ],
   "source": [
    "ann.fit(X_train, y_train, steps=1000, batch=200)"
   ]
  },
  {
   "cell_type": "code",
   "execution_count": null,
   "metadata": {
    "collapsed": false,
    "scrolled": true
   },
   "outputs": [],
   "source": [
    "k_means(X_train, 10, random_state=42)[0]"
   ]
  },
  {
   "cell_type": "code",
   "execution_count": null,
   "metadata": {
    "collapsed": false
   },
   "outputs": [],
   "source": [
    "#ann.get_variables()"
   ]
  },
  {
   "cell_type": "code",
   "execution_count": null,
   "metadata": {
    "collapsed": false
   },
   "outputs": [],
   "source": [
    "y_train"
   ]
  },
  {
   "cell_type": "code",
   "execution_count": null,
   "metadata": {
    "collapsed": true
   },
   "outputs": [],
   "source": []
  },
  {
   "cell_type": "code",
   "execution_count": 108,
   "metadata": {
    "collapsed": false
   },
   "outputs": [
    {
     "data": {
      "text/plain": [
       "array([ 0.1], dtype=float32)"
      ]
     },
     "execution_count": 108,
     "metadata": {},
     "output_type": "execute_result"
    }
   ],
   "source": [
    "ann.get_variables()['hidden/r_4:0'].eval(session=ann.session)"
   ]
  },
  {
   "cell_type": "code",
   "execution_count": 117,
   "metadata": {
    "collapsed": false
   },
   "outputs": [],
   "source": [
    "preds = ann.predict(X_train)"
   ]
  },
  {
   "cell_type": "code",
   "execution_count": 118,
   "metadata": {
    "collapsed": false
   },
   "outputs": [
    {
     "data": {
      "text/plain": [
       "array([[ 0.46655577],\n",
       "       [ 0.28962016],\n",
       "       [ 0.19116375],\n",
       "       [ 0.23223484],\n",
       "       [ 3.03577089],\n",
       "       [ 0.99269801],\n",
       "       [ 2.73700285],\n",
       "       [ 2.54459929],\n",
       "       [ 2.70109963],\n",
       "       [ 0.60020161]], dtype=float32)"
      ]
     },
     "execution_count": 118,
     "metadata": {},
     "output_type": "execute_result"
    }
   ],
   "source": [
    "preds[randint(y_train.shape[0], size=10)]"
   ]
  },
  {
   "cell_type": "code",
   "execution_count": 119,
   "metadata": {
    "collapsed": false
   },
   "outputs": [
    {
     "data": {
      "text/plain": [
       "1.4685519763445654"
      ]
     },
     "execution_count": 119,
     "metadata": {},
     "output_type": "execute_result"
    }
   ],
   "source": [
    "np.sqrt(mean_squared_error(preds, y_train))"
   ]
  },
  {
   "cell_type": "code",
   "execution_count": 120,
   "metadata": {
    "collapsed": false
   },
   "outputs": [
    {
     "data": {
      "text/plain": [
       "0.82698611545562761"
      ]
     },
     "execution_count": 120,
     "metadata": {},
     "output_type": "execute_result"
    }
   ],
   "source": [
    "median_absolute_error(preds, y_train)"
   ]
  },
  {
   "cell_type": "code",
   "execution_count": 121,
   "metadata": {
    "collapsed": false
   },
   "outputs": [
    {
     "data": {
      "text/plain": [
       "<matplotlib.axes._subplots.AxesSubplot at 0x7f4d855fbf28>"
      ]
     },
     "execution_count": 121,
     "metadata": {},
     "output_type": "execute_result"
    },
    {
     "data": {
      "image/png": "[encoded data removed]",
      "text/plain": [
       "<matplotlib.figure.Figure at 0x7f4d855fb198>"
      ]
     },
     "metadata": {},
     "output_type": "display_data"
    }
   ],
   "source": [
    "sns.distplot(preds, kde=False, bins=50)"
   ]
  },
  {
   "cell_type": "code",
   "execution_count": 126,
   "metadata": {
    "collapsed": false
   },
   "outputs": [],
   "source": [
    "reg = LinearRegression()"
   ]
  },
  {
   "cell_type": "code",
   "execution_count": 127,
   "metadata": {
    "collapsed": false
   },
   "outputs": [
    {
     "data": {
      "text/plain": [
       "LinearRegression(copy_X=True, fit_intercept=True, n_jobs=1, normalize=False)"
      ]
     },
     "execution_count": 127,
     "metadata": {},
     "output_type": "execute_result"
    }
   ],
   "source": [
    "reg.fit(X_train, y_train)"
   ]
  },
  {
   "cell_type": "code",
   "execution_count": 129,
   "metadata": {
    "collapsed": false
   },
   "outputs": [],
   "source": [
    "lin_preds = reg.predict(X_train)"
   ]
  },
  {
   "cell_type": "code",
   "execution_count": 130,
   "metadata": {
    "collapsed": false
   },
   "outputs": [
    {
     "data": {
      "text/plain": [
       "0.71967570858315744"
      ]
     },
     "execution_count": 130,
     "metadata": {},
     "output_type": "execute_result"
    }
   ],
   "source": [
    "np.sqrt(mean_squared_error(lin_preds, y_train))"
   ]
  },
  {
   "cell_type": "code",
   "execution_count": 131,
   "metadata": {
    "collapsed": false
   },
   "outputs": [
    {
     "data": {
      "text/plain": [
       "<matplotlib.axes._subplots.AxesSubplot at 0x7f4d85410b00>"
      ]
     },
     "execution_count": 131,
     "metadata": {},
     "output_type": "execute_result"
    },
    {
     "data": {
      "image/png": "[encoded data removed]",
      "text/plain": [
       "<matplotlib.figure.Figure at 0x7f4d853d0a58>"
      ]
     },
     "metadata": {},
     "output_type": "display_data"
    }
   ],
   "source": [
    "sns.distplot(lin_preds, kde=False, bins=50)"
   ]
  },
  {
   "cell_type": "code",
   "execution_count": null,
   "metadata": {
    "collapsed": true
   },
   "outputs": [],
   "source": []
  }
 ],
 "metadata": {
  "kernelspec": {
   "display_name": "Python 3",
   "language": "python",
   "name": "python3"
  },
  "language_info": {
   "codemirror_mode": {
    "name": "ipython",
    "version": 3
   },
   "file_extension": ".py",
   "mimetype": "text/x-python",
   "name": "python",
   "nbconvert_exporter": "python",
   "pygments_lexer": "ipython3",
   "version": "3.4.2"
  }
 },
 "nbformat": 4,
 "nbformat_minor": 0
}
